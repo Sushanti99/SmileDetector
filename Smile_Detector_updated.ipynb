{
 "cells": [
  {
   "cell_type": "code",
   "execution_count": 2,
   "metadata": {},
   "outputs": [
    {
     "name": "stdout",
     "output_type": "stream",
     "text": [
      "pygame 1.9.6\n",
      "Hello from the pygame community. https://www.pygame.org/contribute.html\n"
     ]
    }
   ],
   "source": [
    "import pygame,dlib,time,cv2,os\n",
    "from imutils.video import VideoStream\n",
    "from imutils import face_utils"
   ]
  },
  {
   "cell_type": "code",
   "execution_count": 3,
   "metadata": {},
   "outputs": [],
   "source": [
    "shape_predictor=\"shape_predictor_68_face_landmarks.dat\" \n",
    "detector = dlib.get_frontal_face_detector()\n",
    "predictor = dlib.shape_predictor(shape_predictor)"
   ]
  },
  {
   "cell_type": "code",
   "execution_count": 4,
   "metadata": {},
   "outputs": [],
   "source": [
    "vs = VideoStream(src=0).start()\n",
    "#time.sleep(2.0)"
   ]
  },
  {
   "cell_type": "code",
   "execution_count": 5,
   "metadata": {},
   "outputs": [],
   "source": [
    "count=0\n",
    "p1=[(0,0)]*68\n",
    "p2=[(0,0)]*68\n",
    "d=[(0,0)]*68\n",
    "dist_smilo=0\n",
    "diff_chx,diff_chy=0,0\n",
    "pid=0\n",
    "count_smile,count_eact,count_be=0,0,0"
   ]
  },
  {
   "cell_type": "code",
   "execution_count": 6,
   "metadata": {},
   "outputs": [
    {
     "name": "stdout",
     "output_type": "stream",
     "text": [
      "Smile  1\n",
      "Smile  2\n",
      "Smile  3\n"
     ]
    }
   ],
   "source": [
    "while True:\n",
    "        \n",
    "    frame = vs.read()\n",
    "    gray = cv2.cvtColor(frame, cv2.COLOR_BGR2GRAY)\n",
    "    rects=detector(gray,0)\n",
    "        \n",
    "    diff_smile=0\n",
    "    diff_ang=0\n",
    "    diff_leye=0\n",
    "    diff_eye=0\n",
    "    diff_reye=0\n",
    "    diff_up=0\n",
    "    diff_change=0\n",
    "        \n",
    "    if(count%2==0):\n",
    "        p1=p2\n",
    "        p2=[(0,0)]*68\n",
    "        d=[(0,0)]*68\n",
    "    \n",
    "    cv2.imshow(\"frame\",frame)\n",
    "    \n",
    "    x49=0\n",
    "    y49=0\n",
    "    x55=0\n",
    "    y55=0\n",
    "    \n",
    "    #print(\"Count smile \",count_smile)\n",
    "    \n",
    "    s=0\n",
    "    \n",
    "    for rect in rects:\n",
    "        shape=predictor(gray,rect)\n",
    "        shape = face_utils.shape_to_np(shape)\n",
    "        (bx,by,bw,bh) = face_utils.rect_to_bb(rect)\n",
    "        cv2.rectangle(frame, (bx,by), (bx+bw, by+bh), (0,255,0), 1)\n",
    "        \n",
    "        i=1\n",
    "        \n",
    "        x1,y1,w,h = 0,0,0,0\n",
    "        count=count+1\n",
    "        \n",
    "        for (x,y) in shape:\n",
    "            cv2.circle(frame,(x,y),1,(0,255,0),-1)\n",
    "            if(i):\n",
    "                cv2.putText(frame, str(i), (x, y),cv2.FONT_HERSHEY_SIMPLEX, 0.3, (0, 0, 255), 1)\n",
    "            if (i==49):\n",
    "                x49=x\n",
    "                y49=y\n",
    "            elif(i==55):\n",
    "                x55=x\n",
    "                y55=y\n",
    "                dist_smile=((x49-x55)**2+(y49-y55)**2)**0.5\n",
    "                #print('dist_smile',dist_smile)\n",
    "                diff_smile = (dist_smile)-dist_smilo\n",
    "                if diff_smile<0:\n",
    "                    diff_smile*=-1\n",
    "                #print('diff_smile',diff_smile)\n",
    "                #print('dist_smilo',dist_smilo)\n",
    "                if count==1 or diff_smile>15:\n",
    "                    dist_smilo=dist_smile\n",
    "                if diff_smile<6:\n",
    "                    dist_smilo = (dist_smilo+dist_smile)//2\n",
    "            if (diff_smile>10 and dist_smile>60 and dist_smilo>55 and count!=1):\n",
    "                #cv2.putText(frame,'Smile', (50, 50),cv2.FONT_HERSHEY_SIMPLEX, 2, (0, 0, 255), 1)\n",
    "                s=1\n",
    "                #cv2.imshow(\"selfie1\", frame)\n",
    "            \n",
    "            i=i+1\n",
    "    \n",
    "    if (s==1):\n",
    "        count_smile = count_smile+1\n",
    "        print(\"Smile \",count_smile)\n",
    "        s=0\n",
    "    \n",
    "        \n",
    "    cv2.imshow(\"Frame\",frame)\n",
    "    key = cv2.waitKey(1) & 0xFF\n",
    "        \n",
    "    if key == 27:\n",
    "        break\n",
    "\n",
    "VideoStream(src=0).stop()\n",
    "cv2.destroyAllWindows()"
   ]
  },
  {
   "cell_type": "code",
   "execution_count": null,
   "metadata": {},
   "outputs": [],
   "source": []
  }
 ],
 "metadata": {
  "kernelspec": {
   "display_name": "Python 3",
   "language": "python",
   "name": "python3"
  },
  "language_info": {
   "codemirror_mode": {
    "name": "ipython",
    "version": 3
   },
   "file_extension": ".py",
   "mimetype": "text/x-python",
   "name": "python",
   "nbconvert_exporter": "python",
   "pygments_lexer": "ipython3",
   "version": "3.6.7"
  }
 },
 "nbformat": 4,
 "nbformat_minor": 2
}
